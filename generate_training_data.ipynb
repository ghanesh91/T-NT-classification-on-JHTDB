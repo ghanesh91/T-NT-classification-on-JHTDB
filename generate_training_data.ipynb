{
 "cells": [
  {
   "cell_type": "code",
   "execution_count": 1,
   "id": "baking-token",
   "metadata": {},
   "outputs": [],
   "source": [
    "#matplotlib notebook\n",
    "import numpy as np\n",
    "import math\n",
    "import random\n",
    "import pyJHTDB\n",
    "import h5py\n",
    "import time as tt\n",
    "import matplotlib.pyplot as plt\n",
    "from scipy import ndimage as ndi\n",
    "from skimage import filters\n",
    "import skimage.morphology as morphology\n",
    "from skimage.morphology import square\n",
    "from sklearn.cluster import KMeans\n",
    "from sklearn.datasets import make_blobs\n",
    "from matplotlib import cm\n",
    "import scipy.io as sio\n",
    "import time\n",
    "import matplotlib.animation as animation\n",
    "# load shared library\n",
    "lTDB = pyJHTDB.libJHTDB()\n",
    "#initialize webservices\n",
    "lTDB.initialize()\n",
    "\n",
    "#Add token\n",
    "auth_token  = \"edu.jhu.burgers-2e898d7f\"\n",
    "lTDB.add_token(auth_token)\n",
    "\n",
    "dataset = 'transition_bl'\n",
    "\n",
    "spatialInterp  = 0  # no spatial interpolation\n",
    "temporalInterp = 0  # no time interpolation\n",
    "FD4NoInt       = 40 # 4th-order FD, no spatial interpolation"
   ]
  },
  {
   "cell_type": "code",
   "execution_count": 2,
   "id": "baking-ivory",
   "metadata": {},
   "outputs": [
    {
     "name": "stdout",
     "output_type": "stream",
     "text": [
      "256 415 4 424960\n"
     ]
    }
   ],
   "source": [
    "# Database domain size and number of grid points\n",
    "x_min =   30.2185\n",
    "x_max = 1000.0650\n",
    "y_min =    0.0036\n",
    "y_max =   26.4880\n",
    "z_min =    0.0000\n",
    "z_max =  240.0000\n",
    "d99i  =    0.9648\n",
    "d99f  =   15.0433\n",
    "\n",
    "nx = 3320\n",
    "ny =  224\n",
    "nz = 2048\n",
    "\n",
    "# Database time duration\n",
    "Ti = 0\n",
    "Tf = Ti + 1175\n",
    "dt = 0.25\n",
    "\n",
    "# Create surface\n",
    "nix = round(nx / 8)\n",
    "niz = round(nz / 8)\n",
    "niy = round(ny / 50)\n",
    "x = np.linspace(x_min, x_max, nix)\n",
    "z = np.linspace(z_min, z_max, niz)\n",
    "y = np.linspace(y_min, y_max, niy); #d99i\n",
    "\n",
    "[X,Z] = np.meshgrid(x,z)\n",
    "print(niz,nix,niy,nix*niy*niz)"
   ]
  },
  {
   "cell_type": "code",
   "execution_count": 3,
   "id": "violent-evanescence",
   "metadata": {
    "scrolled": false
   },
   "outputs": [
    {
     "name": "stdout",
     "output_type": "stream",
     "text": [
      "Read y: 0.0036\n",
      "Requesting velocity at 106240 points...\n",
      "   13.998085737228394 seconds\n",
      "Requesting velocity gradients at 106240 points...\n",
      "   29.7730770111084 seconds\n",
      "Read y: 8.831733333333334\n",
      "Requesting velocity at 106240 points...\n"
     ]
    },
    {
     "ename": "KeyboardInterrupt",
     "evalue": "",
     "output_type": "error",
     "traceback": [
      "\u001b[0;31m---------------------------------------------------------------------------\u001b[0m",
      "\u001b[0;31mKeyboardInterrupt\u001b[0m                         Traceback (most recent call last)",
      "\u001b[0;32m<ipython-input-3-8064745caf49>\u001b[0m in \u001b[0;36m<module>\u001b[0;34m\u001b[0m\n\u001b[1;32m     18\u001b[0m     result = lTDB.getData(time, points, data_set = 'transition_bl',\n\u001b[1;32m     19\u001b[0m             \u001b[0msinterp\u001b[0m \u001b[0;34m=\u001b[0m \u001b[0mspatialInterp\u001b[0m\u001b[0;34m,\u001b[0m \u001b[0mtinterp\u001b[0m \u001b[0;34m=\u001b[0m \u001b[0mtemporalInterp\u001b[0m\u001b[0;34m,\u001b[0m\u001b[0;34m\u001b[0m\u001b[0;34m\u001b[0m\u001b[0m\n\u001b[0;32m---> 20\u001b[0;31m             getFunction = 'getVelocity')\n\u001b[0m\u001b[1;32m     21\u001b[0m     \u001b[0mend\u001b[0m \u001b[0;34m=\u001b[0m \u001b[0mtt\u001b[0m\u001b[0;34m.\u001b[0m\u001b[0mtime\u001b[0m\u001b[0;34m(\u001b[0m\u001b[0;34m)\u001b[0m\u001b[0;34m\u001b[0m\u001b[0;34m\u001b[0m\u001b[0m\n\u001b[1;32m     22\u001b[0m     \u001b[0mprint\u001b[0m\u001b[0;34m(\u001b[0m\u001b[0;34m'   '\u001b[0m\u001b[0;34m+\u001b[0m\u001b[0mstr\u001b[0m\u001b[0;34m(\u001b[0m\u001b[0mend\u001b[0m \u001b[0;34m-\u001b[0m \u001b[0mstart\u001b[0m\u001b[0;34m)\u001b[0m\u001b[0;34m+\u001b[0m\u001b[0;34m' seconds'\u001b[0m\u001b[0;34m)\u001b[0m\u001b[0;34m\u001b[0m\u001b[0;34m\u001b[0m\u001b[0m\n",
      "\u001b[0;32m~/anaconda3/lib/python3.7/site-packages/pyJHTDB/libJHTDB.py\u001b[0m in \u001b[0;36mgetData\u001b[0;34m(self, time, point_coords, sinterp, tinterp, data_set, getFunction, make_modulo)\u001b[0m\n\u001b[1;32m    151\u001b[0m                  \u001b[0mctypes\u001b[0m\u001b[0;34m.\u001b[0m\u001b[0mc_int\u001b[0m\u001b[0;34m(\u001b[0m\u001b[0msinterp\u001b[0m\u001b[0;34m)\u001b[0m\u001b[0;34m,\u001b[0m \u001b[0mctypes\u001b[0m\u001b[0;34m.\u001b[0m\u001b[0mc_int\u001b[0m\u001b[0;34m(\u001b[0m\u001b[0mtinterp\u001b[0m\u001b[0;34m)\u001b[0m\u001b[0;34m,\u001b[0m \u001b[0mctypes\u001b[0m\u001b[0;34m.\u001b[0m\u001b[0mc_int\u001b[0m\u001b[0;34m(\u001b[0m\u001b[0mnpoints\u001b[0m\u001b[0;34m)\u001b[0m\u001b[0;34m,\u001b[0m\u001b[0;34m\u001b[0m\u001b[0;34m\u001b[0m\u001b[0m\n\u001b[1;32m    152\u001b[0m                  \u001b[0mpoint_coords\u001b[0m\u001b[0;34m.\u001b[0m\u001b[0mctypes\u001b[0m\u001b[0;34m.\u001b[0m\u001b[0mdata_as\u001b[0m\u001b[0;34m(\u001b[0m\u001b[0mctypes\u001b[0m\u001b[0;34m.\u001b[0m\u001b[0mPOINTER\u001b[0m\u001b[0;34m(\u001b[0m\u001b[0mctypes\u001b[0m\u001b[0;34m.\u001b[0m\u001b[0mPOINTER\u001b[0m\u001b[0;34m(\u001b[0m\u001b[0mctypes\u001b[0m\u001b[0;34m.\u001b[0m\u001b[0mc_float\u001b[0m\u001b[0;34m)\u001b[0m\u001b[0;34m)\u001b[0m\u001b[0;34m)\u001b[0m\u001b[0;34m,\u001b[0m\u001b[0;34m\u001b[0m\u001b[0;34m\u001b[0m\u001b[0m\n\u001b[0;32m--> 153\u001b[0;31m                  result_array.ctypes.data_as(ctypes.POINTER(ctypes.POINTER(ctypes.c_float))))\n\u001b[0m\u001b[1;32m    154\u001b[0m         \u001b[0;32mreturn\u001b[0m \u001b[0mresult_array\u001b[0m\u001b[0;34m\u001b[0m\u001b[0;34m\u001b[0m\u001b[0m\n\u001b[1;32m    155\u001b[0m \u001b[0;34m\u001b[0m\u001b[0m\n",
      "\u001b[0;31mKeyboardInterrupt\u001b[0m: "
     ]
    }
   ],
   "source": [
    "# Get the velocity at each point\n",
    "time = Ti #Time of the data\n",
    "ui=np.zeros((nix,niz,niy,3))\n",
    "duidxj=np.zeros((nix,niz,niy,9))\n",
    "\n",
    "for j in range(niy):\n",
    "    print('Read y:',y[j])\n",
    "    start = tt.time()\n",
    "    points  = np.zeros((nix,niz,3))\n",
    "    points[:,:,0] = X.transpose()\n",
    "    points[:,:,1] = y[j]\n",
    "    points[:,:,2] = Z.transpose()\n",
    "\n",
    "    # 3D array with single precision values\n",
    "    points = np.array(points,dtype='float32')\n",
    "\n",
    "    print('Requesting velocity at {0} points...'.format(nix*niz*1))\n",
    "    result = lTDB.getData(time, points, data_set = 'transition_bl',\n",
    "            sinterp = spatialInterp, tinterp = temporalInterp,\n",
    "            getFunction = 'getVelocity')\n",
    "    end = tt.time()\n",
    "    print('   '+str(end - start)+' seconds')\n",
    "\n",
    "    start = tt.time()\n",
    "    print('Requesting velocity gradients at {0} points...'.format(nix*niz*1))\n",
    "    result_grad = lTDB.getData(time, points, data_set = 'transition_bl',\n",
    "            sinterp = FD4NoInt, tinterp = temporalInterp,\n",
    "            getFunction = 'getVelocityGradient')\n",
    "    end = tt.time()\n",
    "    print('   '+str(end - start)+' seconds')\n",
    "    ui[0:nix,0:niz,j,0:3]=result[0:nix,0:niz,0:3]\n",
    "    duidxj[0:nix,0:niz,j,0:9]=result_grad[0:nix,0:niz,0:9]"
   ]
  },
  {
   "cell_type": "code",
   "execution_count": null,
   "id": "surface-philosophy",
   "metadata": {},
   "outputs": [],
   "source": [
    "#Save in matlab format   \n",
    "sio.savemat('data_t0.mat',{'x':x,'y':y,'z':z,'ui':ui,'duidxj':duidxj})\n",
    "\n",
    "#save using hdf5 format\n",
    "#h5f = h5py.File('data.h5', 'w')\n",
    "#h5f.create_dataset('x', data=X)\n",
    "#h5f.create_dataset('y', data=y)\n",
    "#h5f.create_dataset('z', data=Z)\n",
    "#h5f.create_dataset('ui', data=ui)\n",
    "#h5f.create_dataset('duidxj', data=duidxj)\n",
    "#h5f.close()"
   ]
  },
  {
   "cell_type": "code",
   "execution_count": null,
   "id": "adjacent-delay",
   "metadata": {},
   "outputs": [],
   "source": []
  }
 ],
 "metadata": {
  "kernelspec": {
   "display_name": "Python 3",
   "language": "python",
   "name": "python3"
  },
  "language_info": {
   "codemirror_mode": {
    "name": "ipython",
    "version": 3
   },
   "file_extension": ".py",
   "mimetype": "text/x-python",
   "name": "python",
   "nbconvert_exporter": "python",
   "pygments_lexer": "ipython3",
   "version": "3.7.9"
  }
 },
 "nbformat": 4,
 "nbformat_minor": 5
}
