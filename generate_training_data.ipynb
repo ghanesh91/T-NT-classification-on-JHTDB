{
 "cells": [
  {
   "cell_type": "code",
   "execution_count": null,
   "id": "baking-token",
   "metadata": {},
   "outputs": [],
   "source": [
    "#matplotlib notebook\n",
    "import numpy as np\n",
    "import math\n",
    "import random\n",
    "import pyJHTDB\n",
    "import h5py\n",
    "import time as tt\n",
    "import matplotlib.pyplot as plt\n",
    "from scipy import ndimage as ndi\n",
    "from skimage import filters\n",
    "import skimage.morphology as morphology\n",
    "from skimage.morphology import square\n",
    "from sklearn.cluster import KMeans\n",
    "from sklearn.datasets import make_blobs\n",
    "from matplotlib import cm\n",
    "import scipy.io as sio\n",
    "import time\n",
    "import matplotlib.animation as animation\n",
    "# load shared library\n",
    "lTDB = pyJHTDB.libJHTDB()\n",
    "#initialize webservices\n",
    "lTDB.initialize()\n",
    "\n",
    "#Add token\n",
    "auth_token  = \"edu.jhu.pha.turbulence.testing-201311\" #use your personal authorisation token for full-access to JHTDB\n",
    "lTDB.add_token(auth_token)\n",
    "\n",
    "dataset = 'transition_bl'\n",
    "\n",
    "spatialInterp  = 0  # no spatial interpolation\n",
    "temporalInterp = 0  # no time interpolation\n",
    "FD4NoInt       = 40 # 4th-order FD, no spatial interpolation"
   ]
  },
  {
   "cell_type": "code",
   "execution_count": null,
   "id": "baking-ivory",
   "metadata": {},
   "outputs": [],
   "source": [
    "# Database domain size and number of grid points\n",
    "x_min =   30.2185\n",
    "x_max = 1000.0650\n",
    "y_min =    0.0036\n",
    "y_max =   26.4880\n",
    "z_min =    0.0000\n",
    "z_max =  240.0000\n",
    "d99i  =    0.9648\n",
    "d99f  =   15.0433\n",
    "\n",
    "nx = 3320\n",
    "ny =  224\n",
    "nz = 2048\n",
    "\n",
    "# Database time duration\n",
    "Ti = 0\n",
    "Tf = Ti + 1175\n",
    "dt = 0.25\n",
    "\n",
    "# Create surface\n",
    "nix = round(nx / 8)\n",
    "niz = round(nz / 8)\n",
    "niy = round(ny / 50)\n",
    "x = np.linspace(x_min, x_max, nix)\n",
    "z = np.linspace(z_min, z_max, niz)\n",
    "y = np.linspace(y_min, y_max, niy); #d99i\n",
    "\n",
    "[X,Z] = np.meshgrid(x,z)\n",
    "print(niz,nix,niy,nix*niy*niz)"
   ]
  },
  {
   "cell_type": "code",
   "execution_count": null,
   "id": "violent-evanescence",
   "metadata": {
    "scrolled": false
   },
   "outputs": [],
   "source": [
    "# Get the velocity at each point\n",
    "time = Ti #Time of the data\n",
    "ui=np.zeros((nix,niz,niy,3))\n",
    "duidxj=np.zeros((nix,niz,niy,9))\n",
    "\n",
    "for j in range(niy):\n",
    "    print('Read y:',y[j])\n",
    "    start = tt.time()\n",
    "    points  = np.zeros((nix,niz,3))\n",
    "    points[:,:,0] = X.transpose()\n",
    "    points[:,:,1] = y[j]\n",
    "    points[:,:,2] = Z.transpose()\n",
    "\n",
    "    # 3D array with single precision values\n",
    "    points = np.array(points,dtype='float32')\n",
    "\n",
    "    print('Requesting velocity at {0} points...'.format(nix*niz*1))\n",
    "    result = lTDB.getData(time, points, data_set = 'transition_bl',\n",
    "            sinterp = spatialInterp, tinterp = temporalInterp,\n",
    "            getFunction = 'getVelocity')\n",
    "    end = tt.time()\n",
    "    print('   '+str(end - start)+' seconds')\n",
    "\n",
    "    start = tt.time()\n",
    "    print('Requesting velocity gradients at {0} points...'.format(nix*niz*1))\n",
    "    result_grad = lTDB.getData(time, points, data_set = 'transition_bl',\n",
    "            sinterp = FD4NoInt, tinterp = temporalInterp,\n",
    "            getFunction = 'getVelocityGradient')\n",
    "    end = tt.time()\n",
    "    print('   '+str(end - start)+' seconds')\n",
    "    ui[0:nix,0:niz,j,0:3]=result[0:nix,0:niz,0:3]\n",
    "    duidxj[0:nix,0:niz,j,0:9]=result_grad[0:nix,0:niz,0:9]"
   ]
  },
  {
   "cell_type": "code",
   "execution_count": null,
   "id": "surface-philosophy",
   "metadata": {},
   "outputs": [],
   "source": [
    "#Save in matlab format   \n",
    "sio.savemat('data_t0.mat',{'x':x,'y':y,'z':z,'ui':ui,'duidxj':duidxj})"
   ]
  },
  {
   "cell_type": "code",
   "execution_count": null,
   "id": "adjacent-delay",
   "metadata": {},
   "outputs": [],
   "source": []
  }
 ],
 "metadata": {
  "kernelspec": {
   "display_name": "Python 3",
   "language": "python",
   "name": "python3"
  },
  "language_info": {
   "codemirror_mode": {
    "name": "ipython",
    "version": 3
   },
   "file_extension": ".py",
   "mimetype": "text/x-python",
   "name": "python",
   "nbconvert_exporter": "python",
   "pygments_lexer": "ipython3",
   "version": "3.7.9"
  }
 },
 "nbformat": 4,
 "nbformat_minor": 5
}
